{
 "cells": [
  {
   "cell_type": "markdown",
   "metadata": {
    "collapsed": false
   },
   "source": [
   ]
  },
  {
   "cell_type": "code",
   "execution_count": 8,
   "metadata": {
    "collapsed": false
   },
   "outputs": [
   ],
   "source": [
    "### DECLARATIONS ###\n",
    "\n",
    "Sym = SymmetricFunctions(QQ);\n",
    "\n",
    "# need to pick a basis to do anything meaningful\n",
    "s = Sym.s() # Schur basis\n",
    "h = Sym.h() # homogeneous basis\n",
    "m = Sym.m() # monomial basis\n",
    "p = Sym.p() # power sum basis\n",
    "\n",
    "\n",
    "# declare basis w.r.t. homogeneous polynomials for defining H\n",
    "R.<t,z> = PowerSeriesRing(SymmetricFunctions(QQ).h())\n",
    "\n",
    "####################\n",
    "\n",
    "def stirlingFirstVG(n,k):\n",
    "    L = Partitions(n,length=n-k).list();\n",
    "    return sum(s.gessel_reutenauer(x) for x in L);\n",
    "\n",
    "def stirlingFirstOS(n,k):   \n",
    "    L = Partitions(n,length=n-k).list();\n",
    "    return sum(s.lehrer_solomon(x) for x in L)"
   ]
  },
  {
   "cell_type": "code",
   "execution_count": 9,
   "metadata": {
    "collapsed": false
   },
   "outputs": [
    {
     "name": "stdout",
     "output_type": "stream",
     "text": [
      "representations of VG(A_0):\n",
      "representations of VG(A_1):\n",
      "    degree 0: s[2]\n",
      "representations of VG(A_2):\n",
      "    degree 0: s[3]\n",
      "    degree 1: s[1, 1, 1] + s[2, 1]\n",
      "representations of VG(A_3):\n",
      "    degree 0: s[4]\n",
      "    degree 1: s[2, 1, 1] + s[3, 1]\n",
      "    degree 2: s[1, 1, 1, 1] + s[2, 1, 1] + 2*s[2, 2] + s[3, 1]\n",
      "representations of VG(A_4):\n",
      "    degree 0: s[5]\n",
      "    degree 1: s[3, 1, 1] + s[4, 1]\n",
      "    degree 2: s[1, 1, 1, 1, 1] + s[2, 1, 1, 1] + 2*s[2, 2, 1] + s[3, 1, 1] + 2*s[3, 2] + s[4, 1]\n",
      "    degree 3: 2*s[2, 1, 1, 1] + 2*s[2, 2, 1] + 3*s[3, 1, 1] + 2*s[3, 2] + s[4, 1]\n",
      "representations of VG(A_5):\n",
      "    degree 0: s[6]\n",
      "    degree 1: s[4, 1, 1] + s[5, 1]\n",
      "    degree 2: s[2, 1, 1, 1, 1] + s[2, 2, 2] + s[3, 1, 1, 1] + 2*s[3, 2, 1] + s[4, 1, 1] + 2*s[4, 2] + s[5, 1]\n",
      "    degree 3: s[1, 1, 1, 1, 1, 1] + s[2, 1, 1, 1, 1] + 4*s[2, 2, 1, 1] + s[2, 2, 2] + 3*s[3, 1, 1, 1] + 5*s[3, 2, 1] + 3*s[3, 3] + 3*s[4, 1, 1] + 2*s[4, 2] + s[5, 1]\n",
      "    degree 4: 2*s[2, 1, 1, 1, 1] + 3*s[2, 2, 1, 1] + 3*s[2, 2, 2] + 5*s[3, 1, 1, 1] + 6*s[3, 2, 1] + s[3, 3] + 3*s[4, 1, 1] + 4*s[4, 2] + s[5, 1]\n",
      "representations of VG(A_6):\n",
      "    degree 0: s[7]\n",
      "    degree 1: s[5, 1, 1] + s[6, 1]\n",
      "    degree 2: s[3, 1, 1, 1, 1] + s[3, 2, 2] + s[4, 1, 1, 1] + 2*s[4, 2, 1] + s[5, 1, 1] + 2*s[5, 2] + s[6, 1]\n",
      "    degree 3: s[1, 1, 1, 1, 1, 1, 1] + s[2, 1, 1, 1, 1, 1] + 2*s[2, 2, 1, 1, 1] + 2*s[2, 2, 2, 1] + s[3, 1, 1, 1, 1] + 5*s[3, 2, 1, 1] + 2*s[3, 2, 2] + 4*s[3, 3, 1] + 3*s[4, 1, 1, 1] + 5*s[4, 2, 1] + 3*s[4, 3] + 3*s[5, 1, 1] + 2*s[5, 2] + s[6, 1]\n",
      "    degree 4: 2*s[2, 1, 1, 1, 1, 1] + 4*s[2, 2, 1, 1, 1] + 5*s[2, 2, 2, 1] + 6*s[3, 1, 1, 1, 1] + 12*s[3, 2, 1, 1] + 8*s[3, 2, 2] + 6*s[3, 3, 1] + 6*s[4, 1, 1, 1] + 11*s[4, 2, 1] + 5*s[4, 3] + 3*s[5, 1, 1] + 4*s[5, 2] + s[6, 1]\n",
      "    degree 5: 2*s[2, 1, 1, 1, 1, 1] + 6*s[2, 2, 1, 1, 1] + 5*s[2, 2, 2, 1] + 5*s[3, 1, 1, 1, 1] + 13*s[3, 2, 1, 1] + 7*s[3, 2, 2] + 8*s[3, 3, 1] + 7*s[4, 1, 1, 1] + 12*s[4, 2, 1] + 4*s[4, 3] + 5*s[5, 1, 1] + 4*s[5, 2] + s[6, 1]\n"
     ]
    }
   ],
   "source": [
    "#loop for displaying VG reps\n",
    "n = 7\n",
    "for i in range(1, n+1): \n",
    "    print(\"representations of VG(A_\" + str(i-1) + \"):\")\n",
    "    reps = [];\n",
    "    for j in range(0,i-1) :\n",
    "      reps.append(stirlingFirstVG(i,j));\n",
    "    for k in range(len(reps)): \n",
    "        print(\"    degree \" + str(k) + \": \" + str(reps[k]))"
   ]
  },
  {
   "cell_type": "code",
   "execution_count": 10,
   "metadata": {
    "collapsed": false
   },
   "outputs": [
    {
     "name": "stdout",
     "output_type": "stream",
     "text": [
      "representations of OS(A_0):\n",
      "representations of OS(A_1):\n",
      "    degree 0: s[2]\n",
      "representations of OS(A_2):\n",
      "    degree 0: s[3]\n",
      "    degree 1: s[2, 1] + s[3]\n",
      "representations of OS(A_3):\n",
      "    degree 0: s[4]\n",
      "    degree 1: s[2, 2] + s[3, 1] + s[4]\n",
      "    degree 2: s[2, 1, 1] + s[2, 2] + 2*s[3, 1]\n",
      "representations of OS(A_4):\n",
      "    degree 0: s[5]\n",
      "    degree 1: s[3, 2] + s[4, 1] + s[5]\n",
      "    degree 2: s[2, 2, 1] + 2*s[3, 1, 1] + 2*s[3, 2] + 2*s[4, 1]\n",
      "    degree 3: s[2, 1, 1, 1] + 2*s[2, 2, 1] + 3*s[3, 1, 1] + 2*s[3, 2] + 2*s[4, 1]\n",
      "representations of OS(A_5):\n",
      "    degree 0: s[6]\n",
      "    degree 1: s[4, 2] + s[5, 1] + s[6]\n",
      "    degree 2: 2*s[3, 2, 1] + s[3, 3] + 2*s[4, 1, 1] + 2*s[4, 2] + 2*s[5, 1]\n",
      "    degree 3: 2*s[2, 2, 1, 1] + s[2, 2, 2] + 2*s[3, 1, 1, 1] + 5*s[3, 2, 1] + 3*s[3, 3] + 5*s[4, 1, 1] + 3*s[4, 2] + 2*s[5, 1]\n",
      "    degree 4: s[2, 1, 1, 1, 1] + 3*s[2, 2, 1, 1] + 2*s[2, 2, 2] + 4*s[3, 1, 1, 1] + 6*s[3, 2, 1] + 2*s[3, 3] + 4*s[4, 1, 1] + 4*s[4, 2] + 2*s[5, 1]\n",
      "representations of OS(A_6):\n",
      "    degree 0: s[7]\n",
      "    degree 1: s[5, 2] + s[6, 1] + s[7]\n",
      "    degree 2: s[3, 3, 1] + 2*s[4, 2, 1] + s[4, 3] + 2*s[5, 1, 1] + 2*s[5, 2] + 2*s[6, 1]\n",
      "    degree 3: s[2, 2, 2, 1] + 3*s[3, 2, 1, 1] + 2*s[3, 2, 2] + 4*s[3, 3, 1] + 3*s[4, 1, 1, 1] + 7*s[4, 2, 1] + 4*s[4, 3] + 5*s[5, 1, 1] + 3*s[5, 2] + 2*s[6, 1]\n",
      "    degree 4: 2*s[2, 2, 1, 1, 1] + 3*s[2, 2, 2, 1] + 3*s[3, 1, 1, 1, 1] + 10*s[3, 2, 1, 1] + 7*s[3, 2, 2] + 7*s[3, 3, 1] + 7*s[4, 1, 1, 1] + 13*s[4, 2, 1] + 6*s[4, 3] + 6*s[5, 1, 1] + 6*s[5, 2] + 2*s[6, 1]\n",
      "    degree 5: s[2, 1, 1, 1, 1, 1] + 4*s[2, 2, 1, 1, 1] + 4*s[2, 2, 2, 1] + 5*s[3, 1, 1, 1, 1] + 12*s[3, 2, 1, 1] + 8*s[3, 2, 2] + 7*s[3, 3, 1] + 7*s[4, 1, 1, 1] + 13*s[4, 2, 1] + 5*s[4, 3] + 5*s[5, 1, 1] + 6*s[5, 2] + 2*s[6, 1]\n"
     ]
    }
   ],
   "source": [
    "#loop for displaying OS reps\n",
    "n = 7\n",
    "for i in range(1, n+1): \n",
    "    print(\"representations of OS(A_\" + str(i-1) + \"):\")\n",
    "    reps = [];\n",
    "    for j in range(0,i-1) :\n",
    "      reps.append(stirlingFirstOS(i,j));\n",
    "    for k in range(len(reps)): \n",
    "        print(\"    degree \" + str(k) + \": \" + str(reps[k]))"
   ]
  },
  {
   "cell_type": "code",
   "execution_count": 11,
   "metadata": {
    "collapsed": false
   },
   "outputs": [
   ],
   "source": [
    "#p = how far out to compute to\n",
    "def stirlingSecondOS(n,p):\n",
    "    returnedReps = [];\n",
    "    for i in range(p): \n",
    "        if i == 0: \n",
    "            returnedReps.append(s([n]))\n",
    "            continue \n",
    "        primalReps = [stirlingFirstOS(n,k) for k in range(0,n)];\n",
    "        if i == 1: \n",
    "            returnedReps.append(primalReps[1])\n",
    "            continue\n",
    "        totalRep = 0\n",
    "        for j in range(1,min(i,n)): \n",
    "            sgn = (-1)**(j+1)\n",
    "            totalRep += sgn * primalReps[j].itensor(returnedReps[i-j])\n",
    "        if (i < n):\n",
    "            totalRep += (-1)**(i+1) * primalReps[i]\n",
    "        returnedReps.append(totalRep)\n",
    "    return returnedReps"
   ]
  },
  {
   "cell_type": "code",
   "execution_count": 32,
   "metadata": {
    "collapsed": false
   },
   "outputs": [
   ],
   "source": [
    "#p = how far out to compute to\n",
    "def stirlingSecondVG(n,p):\n",
    "    returnedReps = [];\n",
    "    for i in range(p): \n",
    "        if i == 0: \n",
    "            returnedReps.append(s([n]))\n",
    "            continue \n",
    "        primalReps = [stirlingFirstVG(n,k) for k in range(0,n)];\n",
    "        if i == 1: \n",
    "            returnedReps.append(primalReps[1])\n",
    "            continue\n",
    "        totalRep = 0\n",
    "        for j in range(1,min(i,n)): \n",
    "            sgn = (-1)**(j+1)\n",
    "            totalRep += sgn * primalReps[j].itensor(returnedReps[i-j])\n",
    "        if (i < n):\n",
    "            totalRep += (-1)**(i+1) * primalReps[i]\n",
    "        returnedReps.append(totalRep)\n",
    "    return returnedReps"
   ]
  },
  {
   "cell_type": "code",
   "execution_count": 0,
   "metadata": {
    "collapsed": false
   },
   "outputs": [
   ],
   "source": [
   ]
  },
  {
   "cell_type": "code",
   "execution_count": 37,
   "metadata": {
    "collapsed": false
   },
   "outputs": [
    {
     "data": {
      "text/plain": [
       "[s[5],\n",
       " s[3, 1, 1] + s[4, 1],\n",
       " 2*s[2, 1, 1, 1] + 2*s[2, 2, 1] + 3*s[3, 1, 1] + 3*s[3, 2] + 3*s[4, 1] + 2*s[5]]"
      ]
     },
     "execution_count": 37,
     "metadata": {
     },
     "output_type": "execute_result"
    }
   ],
   "source": [
    "stirlingSecondVG(5,3)"
   ]
  },
  {
   "cell_type": "code",
   "execution_count": 38,
   "metadata": {
    "collapsed": false
   },
   "outputs": [
    {
     "data": {
      "text/plain": [
       "[s[6],\n",
       " s[4, 1, 1] + s[5, 1],\n",
       " s[2, 2, 1, 1] + 2*s[3, 1, 1, 1] + 2*s[3, 2, 1] + s[3, 3] + 3*s[4, 1, 1] + 3*s[4, 2] + 3*s[5, 1] + 2*s[6]]"
      ]
     },
     "execution_count": 38,
     "metadata": {
     },
     "output_type": "execute_result"
    }
   ],
   "source": [
    "stirlingSecondVG(6,3)"
   ]
  },
  {
   "cell_type": "code",
   "execution_count": 40,
   "metadata": {
    "collapsed": false
   },
   "outputs": [
    {
     "data": {
      "text/plain": [
       "[s[8],\n",
       " s[6, 1, 1] + s[7, 1],\n",
       " s[4, 2, 1, 1] + 2*s[5, 1, 1, 1] + 2*s[5, 2, 1] + s[5, 3] + 3*s[6, 1, 1] + 3*s[6, 2] + 3*s[7, 1] + 2*s[8],\n",
       " s[2, 2, 2, 2] + s[3, 1, 1, 1, 1, 1] + 3*s[3, 2, 1, 1, 1] + 3*s[3, 2, 2, 1] + 3*s[3, 3, 1, 1] + s[3, 3, 2] + 6*s[4, 1, 1, 1, 1] + 11*s[4, 2, 1, 1] + 8*s[4, 2, 2] + 8*s[4, 3, 1] + 3*s[4, 4] + 13*s[5, 1, 1, 1] + 22*s[5, 2, 1] + 10*s[5, 3] + 18*s[6, 1, 1] + 18*s[6, 2] + 14*s[7, 1] + 4*s[8]]"
      ]
     },
     "execution_count": 40,
     "metadata": {
     },
     "output_type": "execute_result"
    }
   ],
   "source": [
    "stirlingSecondVG(8,4)"
   ]
  },
  {
   "cell_type": "code",
   "execution_count": 41,
   "metadata": {
    "collapsed": false
   },
   "outputs": [
    {
     "data": {
      "text/plain": [
       "[s[9],\n",
       " s[7, 1, 1] + s[8, 1],\n",
       " s[5, 2, 1, 1] + 2*s[6, 1, 1, 1] + 2*s[6, 2, 1] + s[6, 3] + 3*s[7, 1, 1] + 3*s[7, 2] + 3*s[8, 1] + 2*s[9],\n",
       " s[3, 2, 2, 2] + s[3, 3, 1, 1, 1] + s[4, 1, 1, 1, 1, 1] + 3*s[4, 2, 1, 1, 1] + 3*s[4, 2, 2, 1] + 3*s[4, 3, 1, 1] + s[4, 3, 2] + s[4, 4, 1] + 6*s[5, 1, 1, 1, 1] + 11*s[5, 2, 1, 1] + 8*s[5, 2, 2] + 8*s[5, 3, 1] + 3*s[5, 4] + 13*s[6, 1, 1, 1] + 22*s[6, 2, 1] + 10*s[6, 3] + 18*s[7, 1, 1] + 18*s[7, 2] + 14*s[8, 1] + 4*s[9]]"
      ]
     },
     "execution_count": 41,
     "metadata": {
     },
     "output_type": "execute_result"
    }
   ],
   "source": [
    "stirlingSecondVG(9,4)"
   ]
  },
  {
   "cell_type": "code",
   "execution_count": 43,
   "metadata": {
    "collapsed": false
   },
   "outputs": [
    {
     "data": {
      "text/plain": [
       "[s[11],\n",
       " s[9, 1, 1] + s[10, 1],\n",
       " s[7, 2, 1, 1] + 2*s[8, 1, 1, 1] + 2*s[8, 2, 1] + s[8, 3] + 3*s[9, 1, 1] + 3*s[9, 2] + 3*s[10, 1] + 2*s[11],\n",
       " s[5, 2, 2, 2] + s[5, 3, 1, 1, 1] + s[6, 1, 1, 1, 1, 1] + 3*s[6, 2, 1, 1, 1] + 3*s[6, 2, 2, 1] + 3*s[6, 3, 1, 1] + s[6, 3, 2] + s[6, 4, 1] + 6*s[7, 1, 1, 1, 1] + 11*s[7, 2, 1, 1] + 8*s[7, 2, 2] + 8*s[7, 3, 1] + 3*s[7, 4] + 13*s[8, 1, 1, 1] + 22*s[8, 2, 1] + 10*s[8, 3] + 18*s[9, 1, 1] + 18*s[9, 2] + 14*s[10, 1] + 4*s[11],\n",
       " s[3, 3, 2, 2, 1] + s[4, 2, 1, 1, 1, 1, 1] + 2*s[4, 2, 2, 1, 1, 1] + 3*s[4, 2, 2, 2, 1] + 3*s[4, 3, 1, 1, 1, 1] + 5*s[4, 3, 2, 1, 1] + 3*s[4, 3, 2, 2] + s[4, 3, 3, 1] + 3*s[4, 4, 1, 1, 1] + 2*s[4, 4, 2, 1] + 3*s[5, 1, 1, 1, 1, 1, 1] + 13*s[5, 2, 1, 1, 1, 1] + 20*s[5, 2, 2, 1, 1] + 10*s[5, 2, 2, 2] + 19*s[5, 3, 1, 1, 1] + 24*s[5, 3, 2, 1] + 5*s[5, 3, 3] + 13*s[5, 4, 1, 1] + 8*s[5, 4, 2] + 4*s[5, 5, 1] + 18*s[6, 1, 1, 1, 1, 1] + 57*s[6, 2, 1, 1, 1] + 62*s[6, 2, 2, 1] + 67*s[6, 3, 1, 1] + 49*s[6, 3, 2] + 35*s[6, 4, 1] + 8*s[6, 5] + 52*s[7, 1, 1, 1, 1] + 140*s[7, 2, 1, 1] + 84*s[7, 2, 2] + 122*s[7, 3, 1] + 36*s[7, 4] + 100*s[8, 1, 1, 1] + 185*s[8, 2, 1] + 88*s[8, 3] + 113*s[9, 1, 1] + 108*s[9, 2] + 68*s[10, 1] + 18*s[11]]"
      ]
     },
     "execution_count": 43,
     "metadata": {
     },
     "output_type": "execute_result"
    }
   ],
   "source": [
    "stirlingSecondVG(11,5)"
   ]
  },
  {
   "cell_type": "code",
   "execution_count": 44,
   "metadata": {
    "collapsed": false
   },
   "outputs": [
    {
     "data": {
      "text/plain": [
       "[s[12],\n",
       " s[10, 1, 1] + s[11, 1],\n",
       " s[8, 2, 1, 1] + 2*s[9, 1, 1, 1] + 2*s[9, 2, 1] + s[9, 3] + 3*s[10, 1, 1] + 3*s[10, 2] + 3*s[11, 1] + 2*s[12],\n",
       " s[6, 2, 2, 2] + s[6, 3, 1, 1, 1] + s[7, 1, 1, 1, 1, 1] + 3*s[7, 2, 1, 1, 1] + 3*s[7, 2, 2, 1] + 3*s[7, 3, 1, 1] + s[7, 3, 2] + s[7, 4, 1] + 6*s[8, 1, 1, 1, 1] + 11*s[8, 2, 1, 1] + 8*s[8, 2, 2] + 8*s[8, 3, 1] + 3*s[8, 4] + 13*s[9, 1, 1, 1] + 22*s[9, 2, 1] + 10*s[9, 3] + 18*s[10, 1, 1] + 18*s[10, 2] + 14*s[11, 1] + 4*s[12],\n",
       " s[4, 3, 2, 2, 1] + s[4, 4, 1, 1, 1, 1] + s[5, 2, 1, 1, 1, 1, 1] + 2*s[5, 2, 2, 1, 1, 1] + 3*s[5, 2, 2, 2, 1] + 3*s[5, 3, 1, 1, 1, 1] + 5*s[5, 3, 2, 1, 1] + 3*s[5, 3, 2, 2] + s[5, 3, 3, 1] + 3*s[5, 4, 1, 1, 1] + 2*s[5, 4, 2, 1] + s[5, 5, 1, 1] + 3*s[6, 1, 1, 1, 1, 1, 1] + 13*s[6, 2, 1, 1, 1, 1] + 20*s[6, 2, 2, 1, 1] + 10*s[6, 2, 2, 2] + 19*s[6, 3, 1, 1, 1] + 24*s[6, 3, 2, 1] + 5*s[6, 3, 3] + 13*s[6, 4, 1, 1] + 8*s[6, 4, 2] + 4*s[6, 5, 1] + s[6, 6] + 18*s[7, 1, 1, 1, 1, 1] + 57*s[7, 2, 1, 1, 1] + 62*s[7, 2, 2, 1] + 67*s[7, 3, 1, 1] + 49*s[7, 3, 2] + 35*s[7, 4, 1] + 8*s[7, 5] + 52*s[8, 1, 1, 1, 1] + 140*s[8, 2, 1, 1] + 84*s[8, 2, 2] + 122*s[8, 3, 1] + 36*s[8, 4] + 100*s[9, 1, 1, 1] + 185*s[9, 2, 1] + 88*s[9, 3] + 113*s[10, 1, 1] + 108*s[10, 2] + 68*s[11, 1] + 18*s[12]]"
      ]
     },
     "execution_count": 44,
     "metadata": {
     },
     "output_type": "execute_result"
    }
   ],
   "source": [
    "stirlingSecondVG(12,5)"
   ]
  },
  {
   "cell_type": "code",
   "execution_count": 45,
   "metadata": {
    "collapsed": false
   },
   "outputs": [
    {
     "data": {
      "text/plain": [
       "[s[13],\n",
       " s[11, 1, 1] + s[12, 1],\n",
       " s[9, 2, 1, 1] + 2*s[10, 1, 1, 1] + 2*s[10, 2, 1] + s[10, 3] + 3*s[11, 1, 1] + 3*s[11, 2] + 3*s[12, 1] + 2*s[13],\n",
       " s[7, 2, 2, 2] + s[7, 3, 1, 1, 1] + s[8, 1, 1, 1, 1, 1] + 3*s[8, 2, 1, 1, 1] + 3*s[8, 2, 2, 1] + 3*s[8, 3, 1, 1] + s[8, 3, 2] + s[8, 4, 1] + 6*s[9, 1, 1, 1, 1] + 11*s[9, 2, 1, 1] + 8*s[9, 2, 2] + 8*s[9, 3, 1] + 3*s[9, 4] + 13*s[10, 1, 1, 1] + 22*s[10, 2, 1] + 10*s[10, 3] + 18*s[11, 1, 1] + 18*s[11, 2] + 14*s[12, 1] + 4*s[13],\n",
       " s[5, 3, 2, 2, 1] + s[5, 4, 1, 1, 1, 1] + s[6, 2, 1, 1, 1, 1, 1] + 2*s[6, 2, 2, 1, 1, 1] + 3*s[6, 2, 2, 2, 1] + 3*s[6, 3, 1, 1, 1, 1] + 5*s[6, 3, 2, 1, 1] + 3*s[6, 3, 2, 2] + s[6, 3, 3, 1] + 3*s[6, 4, 1, 1, 1] + 2*s[6, 4, 2, 1] + s[6, 5, 1, 1] + 3*s[7, 1, 1, 1, 1, 1, 1] + 13*s[7, 2, 1, 1, 1, 1] + 20*s[7, 2, 2, 1, 1] + 10*s[7, 2, 2, 2] + 19*s[7, 3, 1, 1, 1] + 24*s[7, 3, 2, 1] + 5*s[7, 3, 3] + 13*s[7, 4, 1, 1] + 8*s[7, 4, 2] + 4*s[7, 5, 1] + s[7, 6] + 18*s[8, 1, 1, 1, 1, 1] + 57*s[8, 2, 1, 1, 1] + 62*s[8, 2, 2, 1] + 67*s[8, 3, 1, 1] + 49*s[8, 3, 2] + 35*s[8, 4, 1] + 8*s[8, 5] + 52*s[9, 1, 1, 1, 1] + 140*s[9, 2, 1, 1] + 84*s[9, 2, 2] + 122*s[9, 3, 1] + 36*s[9, 4] + 100*s[10, 1, 1, 1] + 185*s[10, 2, 1] + 88*s[10, 3] + 113*s[11, 1, 1] + 108*s[11, 2] + 68*s[12, 1] + 18*s[13]]"
      ]
     },
     "execution_count": 45,
     "metadata": {
     },
     "output_type": "execute_result"
    }
   ],
   "source": [
    "stirlingSecondVG(13,5)"
   ]
  },
  {
   "cell_type": "code",
   "execution_count": 0,
   "metadata": {
    "collapsed": false
   },
   "outputs": [
   ],
   "source": [
   ]
  },
  {
   "cell_type": "code",
   "execution_count": 0,
   "metadata": {
    "collapsed": false
   },
   "outputs": [
   ],
   "source": [
   ]
  }
 ],
 "metadata": {
  "kernelspec": {
   "argv": [
    "sage-10.0",
    "--python",
    "-m",
    "sage.repl.ipython_kernel",
    "--matplotlib=inline",
    "-f",
    "{connection_file}"
   ],
   "display_name": "SageMath 10.0",
   "env": {
   },
   "language": "sagemath",
   "metadata": {
    "cocalc": {
     "description": "Open-source mathematical software system",
     "priority": 10,
     "url": "https://www.sagemath.org/"
    }
   },
   "name": "sage-10.0",
   "resource_dir": "/ext/jupyter/kernels/sage-10.0"
  },
  "language_info": {
   "codemirror_mode": {
    "name": "ipython",
    "version": 3
   },
   "file_extension": ".py",
   "mimetype": "text/x-python",
   "name": "python",
   "nbconvert_exporter": "python",
   "pygments_lexer": "ipython3",
   "version": "3.11.1"
  }
 },
 "nbformat": 4,
 "nbformat_minor": 4
}